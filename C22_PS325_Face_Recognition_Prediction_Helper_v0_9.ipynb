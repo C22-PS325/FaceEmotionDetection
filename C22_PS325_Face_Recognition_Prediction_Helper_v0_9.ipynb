{
  "nbformat": 4,
  "nbformat_minor": 0,
  "metadata": {
    "colab": {
      "name": "C22-PS325 Face Recognition Prediction Helper v0.9.ipynb",
      "provenance": [],
      "collapsed_sections": []
    },
    "kernelspec": {
      "name": "python3",
      "display_name": "Python 3"
    },
    "language_info": {
      "name": "python"
    }
  },
  "cells": [
    {
      "cell_type": "markdown",
      "source": [
        "# C22-PS325 Face Recognition Prediction Helper\n",
        "This notebook serves as a hub to create `prediction.csv` for Face Recognition, write to it, and make sense of the results (through analysis, statistics, and/or graphs). Models should not be trained here, load a saved model to make the predictions.\n",
        "<br><br>\n",
        "For privacy reasons, we cannot share or show our stakeholder's data. Therefore, we will write prediction results to a table showing only the filenames, their actual value, and predicted value.\n"
      ],
      "metadata": {
        "id": "ekV6HN2jhzyc"
      }
    },
    {
      "cell_type": "markdown",
      "source": [
        "## Install Dependency"
      ],
      "metadata": {
        "id": "YQbudkSdZef2"
      }
    },
    {
      "cell_type": "code",
      "execution_count": 1,
      "metadata": {
        "colab": {
          "base_uri": "https://localhost:8080/"
        },
        "id": "9OjbliczZS-X",
        "outputId": "c77aac39-fdd3-4ee5-fedf-f165a07ef70d"
      },
      "outputs": [
        {
          "output_type": "stream",
          "name": "stdout",
          "text": [
            "Looking in indexes: https://pypi.org/simple, https://us-python.pkg.dev/colab-wheels/public/simple/\n"
          ]
        }
      ],
      "source": [
        "!pip install -U pandas | grep -v 'Requirement already satisfied'"
      ]
    },
    {
      "cell_type": "markdown",
      "source": [
        "## Setup\n",
        "Edit the path below if necessary."
      ],
      "metadata": {
        "id": "2gIMiGLRZpZ2"
      }
    },
    {
      "cell_type": "code",
      "source": [
        "data_path = '/content/drive/MyDrive/Foto Mimik Wajah'\n",
        "csv_path  = '/content/prediction.csv'"
      ],
      "metadata": {
        "id": "UlKkjhPTiYIJ"
      },
      "execution_count": 2,
      "outputs": []
    },
    {
      "cell_type": "code",
      "source": [
        "from IPython.display import clear_output\n",
        "from google.colab import drive\n",
        "drive.mount('/content/drive') #, force_remount = True)\n",
        "clear_output()"
      ],
      "metadata": {
        "id": "4WOxEKsiZtx9"
      },
      "execution_count": 3,
      "outputs": []
    },
    {
      "cell_type": "markdown",
      "source": [
        "## Create Prediction CSV\n",
        "Unless the data in drive has been altered, this portion should only need to be run once."
      ],
      "metadata": {
        "id": "v0mv4cNdZw27"
      }
    },
    {
      "cell_type": "code",
      "source": [
        "import os\n",
        "\n",
        "result  = 'filename,actual,prediction'\n",
        "mapping = {'marah': 'angry', 'jijik': 'disgust', 'jijok': 'disgust',\n",
        "           'takut': 'fear', 'gembira': 'happy', 'netral': 'neutral',\n",
        "           'datar': 'neutral', 'sedih': 'sad', 'kaget': 'surprise'}\n",
        "\n",
        "for filename in os.listdir(data_path):\n",
        "  result += f'\\n{filename},'\n",
        "  for key in mapping:\n",
        "    if key in filename.lower():\n",
        "      result += mapping[key]\n",
        "      break\n",
        "  result += ','\n",
        "\n",
        "with open('prediction.csv', 'w') as file:\n",
        "  file.write(result)"
      ],
      "metadata": {
        "id": "w_ZxdXyDZzH-"
      },
      "execution_count": 4,
      "outputs": []
    },
    {
      "cell_type": "markdown",
      "source": [
        "## Read Prediction CSV"
      ],
      "metadata": {
        "id": "kyR9aZRBZzuw"
      }
    },
    {
      "cell_type": "code",
      "source": [
        "import pandas as pd\n",
        "\n",
        "prediction = pd.read_csv(csv_path)\n",
        "print(f'There are {len(prediction)} files to predict, below are some examples.')\n",
        "prediction.head()"
      ],
      "metadata": {
        "colab": {
          "base_uri": "https://localhost:8080/",
          "height": 224
        },
        "id": "UF5k2CUEZ2kF",
        "outputId": "ff847470-c6a4-4767-9b65-19deae3ae260"
      },
      "execution_count": 5,
      "outputs": [
        {
          "output_type": "stream",
          "name": "stdout",
          "text": [
            "There are 149 files to predict, below are some examples.\n"
          ]
        },
        {
          "output_type": "execute_result",
          "data": {
            "text/plain": [
              "          filename    actual  prediction\n",
              "0    KAGET (2).jpg  surprise         NaN\n",
              "1  GEMBIRA (2).jpg     happy         NaN\n",
              "2        JIJOK.jpg   disgust         NaN\n",
              "3   TAKUT (16).jpg      fear         NaN\n",
              "4    JIJIK (1).jpg   disgust         NaN"
            ],
            "text/html": [
              "\n",
              "  <div id=\"df-fc912ca3-3436-4be4-8f53-98f731c11e1c\">\n",
              "    <div class=\"colab-df-container\">\n",
              "      <div>\n",
              "<style scoped>\n",
              "    .dataframe tbody tr th:only-of-type {\n",
              "        vertical-align: middle;\n",
              "    }\n",
              "\n",
              "    .dataframe tbody tr th {\n",
              "        vertical-align: top;\n",
              "    }\n",
              "\n",
              "    .dataframe thead th {\n",
              "        text-align: right;\n",
              "    }\n",
              "</style>\n",
              "<table border=\"1\" class=\"dataframe\">\n",
              "  <thead>\n",
              "    <tr style=\"text-align: right;\">\n",
              "      <th></th>\n",
              "      <th>filename</th>\n",
              "      <th>actual</th>\n",
              "      <th>prediction</th>\n",
              "    </tr>\n",
              "  </thead>\n",
              "  <tbody>\n",
              "    <tr>\n",
              "      <th>0</th>\n",
              "      <td>KAGET (2).jpg</td>\n",
              "      <td>surprise</td>\n",
              "      <td>NaN</td>\n",
              "    </tr>\n",
              "    <tr>\n",
              "      <th>1</th>\n",
              "      <td>GEMBIRA (2).jpg</td>\n",
              "      <td>happy</td>\n",
              "      <td>NaN</td>\n",
              "    </tr>\n",
              "    <tr>\n",
              "      <th>2</th>\n",
              "      <td>JIJOK.jpg</td>\n",
              "      <td>disgust</td>\n",
              "      <td>NaN</td>\n",
              "    </tr>\n",
              "    <tr>\n",
              "      <th>3</th>\n",
              "      <td>TAKUT (16).jpg</td>\n",
              "      <td>fear</td>\n",
              "      <td>NaN</td>\n",
              "    </tr>\n",
              "    <tr>\n",
              "      <th>4</th>\n",
              "      <td>JIJIK (1).jpg</td>\n",
              "      <td>disgust</td>\n",
              "      <td>NaN</td>\n",
              "    </tr>\n",
              "  </tbody>\n",
              "</table>\n",
              "</div>\n",
              "      <button class=\"colab-df-convert\" onclick=\"convertToInteractive('df-fc912ca3-3436-4be4-8f53-98f731c11e1c')\"\n",
              "              title=\"Convert this dataframe to an interactive table.\"\n",
              "              style=\"display:none;\">\n",
              "        \n",
              "  <svg xmlns=\"http://www.w3.org/2000/svg\" height=\"24px\"viewBox=\"0 0 24 24\"\n",
              "       width=\"24px\">\n",
              "    <path d=\"M0 0h24v24H0V0z\" fill=\"none\"/>\n",
              "    <path d=\"M18.56 5.44l.94 2.06.94-2.06 2.06-.94-2.06-.94-.94-2.06-.94 2.06-2.06.94zm-11 1L8.5 8.5l.94-2.06 2.06-.94-2.06-.94L8.5 2.5l-.94 2.06-2.06.94zm10 10l.94 2.06.94-2.06 2.06-.94-2.06-.94-.94-2.06-.94 2.06-2.06.94z\"/><path d=\"M17.41 7.96l-1.37-1.37c-.4-.4-.92-.59-1.43-.59-.52 0-1.04.2-1.43.59L10.3 9.45l-7.72 7.72c-.78.78-.78 2.05 0 2.83L4 21.41c.39.39.9.59 1.41.59.51 0 1.02-.2 1.41-.59l7.78-7.78 2.81-2.81c.8-.78.8-2.07 0-2.86zM5.41 20L4 18.59l7.72-7.72 1.47 1.35L5.41 20z\"/>\n",
              "  </svg>\n",
              "      </button>\n",
              "      \n",
              "  <style>\n",
              "    .colab-df-container {\n",
              "      display:flex;\n",
              "      flex-wrap:wrap;\n",
              "      gap: 12px;\n",
              "    }\n",
              "\n",
              "    .colab-df-convert {\n",
              "      background-color: #E8F0FE;\n",
              "      border: none;\n",
              "      border-radius: 50%;\n",
              "      cursor: pointer;\n",
              "      display: none;\n",
              "      fill: #1967D2;\n",
              "      height: 32px;\n",
              "      padding: 0 0 0 0;\n",
              "      width: 32px;\n",
              "    }\n",
              "\n",
              "    .colab-df-convert:hover {\n",
              "      background-color: #E2EBFA;\n",
              "      box-shadow: 0px 1px 2px rgba(60, 64, 67, 0.3), 0px 1px 3px 1px rgba(60, 64, 67, 0.15);\n",
              "      fill: #174EA6;\n",
              "    }\n",
              "\n",
              "    [theme=dark] .colab-df-convert {\n",
              "      background-color: #3B4455;\n",
              "      fill: #D2E3FC;\n",
              "    }\n",
              "\n",
              "    [theme=dark] .colab-df-convert:hover {\n",
              "      background-color: #434B5C;\n",
              "      box-shadow: 0px 1px 3px 1px rgba(0, 0, 0, 0.15);\n",
              "      filter: drop-shadow(0px 1px 2px rgba(0, 0, 0, 0.3));\n",
              "      fill: #FFFFFF;\n",
              "    }\n",
              "  </style>\n",
              "\n",
              "      <script>\n",
              "        const buttonEl =\n",
              "          document.querySelector('#df-fc912ca3-3436-4be4-8f53-98f731c11e1c button.colab-df-convert');\n",
              "        buttonEl.style.display =\n",
              "          google.colab.kernel.accessAllowed ? 'block' : 'none';\n",
              "\n",
              "        async function convertToInteractive(key) {\n",
              "          const element = document.querySelector('#df-fc912ca3-3436-4be4-8f53-98f731c11e1c');\n",
              "          const dataTable =\n",
              "            await google.colab.kernel.invokeFunction('convertToInteractive',\n",
              "                                                     [key], {});\n",
              "          if (!dataTable) return;\n",
              "\n",
              "          const docLinkHtml = 'Like what you see? Visit the ' +\n",
              "            '<a target=\"_blank\" href=https://colab.research.google.com/notebooks/data_table.ipynb>data table notebook</a>'\n",
              "            + ' to learn more about interactive tables.';\n",
              "          element.innerHTML = '';\n",
              "          dataTable['output_type'] = 'display_data';\n",
              "          await google.colab.output.renderOutput(dataTable, element);\n",
              "          const docLink = document.createElement('div');\n",
              "          docLink.innerHTML = docLinkHtml;\n",
              "          element.appendChild(docLink);\n",
              "        }\n",
              "      </script>\n",
              "    </div>\n",
              "  </div>\n",
              "  "
            ]
          },
          "metadata": {},
          "execution_count": 5
        }
      ]
    },
    {
      "cell_type": "code",
      "source": [
        "prediction['actual'].value_counts(dropna = False)"
      ],
      "metadata": {
        "colab": {
          "base_uri": "https://localhost:8080/"
        },
        "id": "QBzHyniigxzb",
        "outputId": "478da47d-955c-4a57-df1b-414283b1dfb8"
      },
      "execution_count": 6,
      "outputs": [
        {
          "output_type": "execute_result",
          "data": {
            "text/plain": [
              "sad         30\n",
              "happy       24\n",
              "angry       23\n",
              "surprise    21\n",
              "fear        20\n",
              "disgust     18\n",
              "neutral     12\n",
              "NaN          1\n",
              "Name: actual, dtype: int64"
            ]
          },
          "metadata": {},
          "execution_count": 6
        }
      ]
    },
    {
      "cell_type": "markdown",
      "source": [
        "## Write Prediction CSV"
      ],
      "metadata": {
        "id": "EjVFGjd1hZUz"
      }
    },
    {
      "cell_type": "code",
      "source": [
        "### TBA ###"
      ],
      "metadata": {
        "id": "Ax-PMgI6g_38"
      },
      "execution_count": null,
      "outputs": []
    }
  ]
}